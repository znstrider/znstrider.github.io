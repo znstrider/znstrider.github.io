{
 "cells": [
  {
   "cell_type": "markdown",
   "metadata": {},
   "source": [
    "### Der Relative Age Effect in deutschen Fußball Nachwuchsleistungszentren\n",
    "\n",
    "\n",
    "#### Zusammengefasst:\n",
    "1) In allen U19 Teams der deutschen Fußball Nachwuchsleistungszentren (NLZ) sind in den ersten Monaten geborene Spieler deutlich überrepräsentiert (Relative Age Effect).  \n",
    "2) Von diesen U19 Spielern schaffen es spätgeborene häufiger in den Profifußball (Reverse Relative Age Effect).  \n",
    "3) Von der Spielzeit her gibt es in der U19 keine Unterschiede zwischen früh und spät im Jahr geborenen."
   ]
  },
  {
   "cell_type": "markdown",
   "metadata": {},
   "source": [
    "### Worum geht es?\n",
    "\n",
    "Jugendsport ist in der Regel in Altersklassen unterteilt, die auf einem Cutoff Datum basieren. In Deutschland ist dieser Cutoff der 31. Dezember.  \n",
    "Diese Unterteilung bedingt, dass früh im Jahr geborene Spieler in ihrer Altersklasse um bis zu 11 Monate älter und somit physisch weiter entwickelt sind, als später im Jahr geborene.  \n",
    "Ältere Spieler sind in der Regel schneller, haben mehr Ausdauer, sind größer und haben mehr Gewicht – alles Faktoren die zu einer deutlichen Bevorzugung bei der Selektion in Jugendteams beitragen können.  \n",
    "In der Wissenschaft ist dieses Phänomen unter dem Namen Relative Age Effect vielfach beschrieben. \n",
    "\n",
    "Um den Relative Age Effekt in den deutschen U19 Nachwuchsleistungszentren zu analysieren, habe ich Daten von Transfermarkt.de abgerufen und analysiert."
   ]
  },
  {
   "cell_type": "markdown",
   "metadata": {},
   "source": [
    "### Was sagen die Daten?"
   ]
  },
  {
   "attachments": {},
   "cell_type": "markdown",
   "metadata": {},
   "source": [
    "![RAE_overview](images/RAE_files/images/RAE_overview.png)"
   ]
  },
  {
   "cell_type": "markdown",
   "metadata": {},
   "source": [
    "Die Daten belegen eine stark ausgeprägte Überrepräsentation von früh im Jahr geborenen Spielern.  \n",
    "Im Durchschnitt sind die in einem Jahrgang ältesten Spieler 5 mal häufiger vertreten als Spieler, die in der letzten Woche des Jahres geboren sind."
   ]
  },
  {
   "cell_type": "markdown",
   "metadata": {},
   "source": [
    "<div width=\"300\">\n",
    "    <img src=\"images/RAE_files/images/Relative_Age_Effect_in_German_U19_Youth_Academies.png\" width=\"66%\" style=\"float: left;\">\n",
    "</div>"
   ]
  },
  {
   "cell_type": "markdown",
   "metadata": {},
   "source": [
    "Dieses Muster zeigt sich nicht nur in der Gesamtheit der U19 Spieler in den Nachwuchsleistungszentren, sondern in den U19 Akademien aller NLZs. Die Spanne reicht dabei von 40% mehr bis zu über 20 mal mehr in der ersten Woche geborenen Spielern."
   ]
  },
  {
   "cell_type": "markdown",
   "metadata": {},
   "source": [
    "### Wie oft gelingt der Sprung in den Profifußball?"
   ]
  },
  {
   "cell_type": "markdown",
   "metadata": {},
   "source": [
    "<div width=\"300\">\n",
    "    <img src=\"images/RAE_files/images/Which_levels_do_U19_Academy_NLZ_Players_reach.png\" width=\"66%\" style=\"float: left;\">\n",
    "</div>"
   ]
  },
  {
   "cell_type": "markdown",
   "metadata": {},
   "source": [
    "Von 7352 vor 1999 geborenen Feldspielern haben es 1264 (~17.2%) in den Profibereich geschafft.  \n",
    "4.1% haben es in die Bundesliga oder eine höhere Liga geschafft, 6.1% haben mindestens das Niveau der 2. Bundesliga erreicht, und 7% sind auf einem niedrigeren professionellen Level untergekommen, das mindestens dem der 3. Liga entspricht.\n",
    "\n",
    "Ca. 17 Prozent haben darunter auf mindestens Regionalliga-Niveau gespielt, während ca. ein Drittel nur im niederklassigem Bereich weiter aktiv war und ein weiteres Drittel aller Jugendspieler keine dauerhaften Spielzeiten mehr im Erwachsenenfußball erlangte."
   ]
  },
  {
   "cell_type": "markdown",
   "metadata": {},
   "source": [
    "### Unter U19 Academy Spielern erreichen spätgeborene öfter den Profifußball"
   ]
  },
  {
   "cell_type": "markdown",
   "metadata": {},
   "source": [
    "Betrachtet man das Erreichen des Profilevels aufgeteilt nach Geburtswochen, kann man einen umgekehrten Relative Age Effekt feststellen: Spät im Jahr geborene U19 Spieler erreichen mit einer höheren Wahrscheinlichkeit den Profifußball.  \n",
    "Sie schaffen es um bis zu etwa 30% häufiger 1500 Minuten oder mehr in der 3. Liga oder einer höheren Spielklasse zu erreichen als Spieler, die in der ersten Woche geboren sind."
   ]
  },
  {
   "cell_type": "markdown",
   "metadata": {},
   "source": [
    "<div width=\"300\">\n",
    "    <img src=\"images/RAE_files/images/Reverse_Relative_Age_Effect_in_Becoming_a_Professional.png\" width=\"66%\" style=\"float: left;\">\n",
    "</div>"
   ]
  },
  {
   "cell_type": "markdown",
   "metadata": {},
   "source": [
    "<tr>\n",
    "    <th>\n",
    "        <div width=\"300\">\n",
    "        <img src=\"images/RAE_files/images/Reverse_Relative_Age_Effect_in_German_Academies.png\" width=\"100%\">\n",
    "        </div>\n",
    "    </th>\n",
    "    <th>\n",
    "        <div width=\"500\">\n",
    "        Dieser Effekt ist positiv und liegt für Spieler, die in der letzten Woche geboren sind, gegenüber in Spielern die in der ersten Woche geboren sind, mit 98%iger Wahrscheinlichkeit zwischen 7% und 57%.\n",
    "        </div>\n",
    "    </th>\n",
    "\n",
    "</tr>"
   ]
  },
  {
   "cell_type": "markdown",
   "metadata": {},
   "source": [
    "### Spielzeiten in den U19 Mannschaften"
   ]
  },
  {
   "cell_type": "markdown",
   "metadata": {},
   "source": [
    "<tr>\n",
    "    <th>\n",
    "        <div width=\"500\">\n",
    "        Von der Spielzeit her gibt es in der U19 keine Unterschiede zwischen früh und spät im Jahr geborenen, obwohl diese wie in der Einleitung beschrieben, im Durchschnitt physisch weiter entwickelt sein sollten.\n",
    "        </div>\n",
    "    </th>    \n",
    "    <th>\n",
    "        <div width=\"300\">\n",
    "        <img src=\"images/RAE_files/images/There_is_no_clear_difference_in_playtime_by_month_born.png\" width=\"100%\"/>\n",
    "        </div>\n",
    "    </th>\n",
    "</tr>"
   ]
  },
  {
   "cell_type": "markdown",
   "metadata": {},
   "source": [
    "### Welche Erkenntnisse konnten wir gewinnen und welche weiteren Fragen stellen sich?\n",
    "\n",
    "Wie in anderen Sportarten auch, werden bei der Selektion in die U19 Mannschaften der NLZ früh geborene Spieler aufgrund ihrer weiter fortgeschrittenen körperlichen Entwicklung bevorzugt.\n",
    "\n",
    "Laut Votteler[1] zeigt sich dieses Muster bereits in unteren U-Mannschaften der deutschen Kompetenzzentren und Jugendakademien, und nimmt mit steigendem Wettbewerbslevel (Kompetenzzentren => Akademien => Regionalauswahlen => Nationalmannschaften) deutlich zu.\n",
    "\n",
    "Die Tatsache, dass Spieler in den U19 Mannschaften unabhängig vom relativen Alter innerhalb der Altersgruppe genauso viel Spielzeit bekommen, wirft die Frage auf, warum die eigentlich immer noch weiter entwickelten älteren Spieler nicht mehr Spielzeit bekommen als die jüngeren Spieler eines Jahrgangs.\n",
    "\n",
    "Das könnte darauf hindeuten, dass der Selektionsprozess auf das gegenwärtige Leistungslevel ausgerichtet ist und unter dieser Sichtweise gut funktioniert.\n",
    "Allerdings bedeutete dies auch, dass momentane Leistung gegenüber Potenzial bevorzugt werden könnte. Mit dem Hintergrund, dass NLZ zuallererst Spieler für den Profibereich ausbilden sollen, muss diese Art der Selektion daher kritisch hinterfragt werden.\n",
    "\n",
    "Hier würde es Sinn machen, das relative Alter, bzw. den individuellen Entwicklungsstand eines Spielers neben dem momentanen Leistungsniveau bei der Selektion mit zu berücksichtigen.  \n",
    "Unter zwei vergleichbar guten Spielern hat der jüngere in der Regel das höhere Potenzial und sollte somit in der Regel bevorzugt werden. "
   ]
  },
  {
   "cell_type": "markdown",
   "metadata": {},
   "source": [
    "### Der Relative Age Effect visuell verdeutlicht"
   ]
  },
  {
   "cell_type": "markdown",
   "metadata": {},
   "source": [
    "<div width=\"300\">\n",
    "    <img src=\"images/RAE_files/gifs/player_development.gif\" width=\"50%\" style=\"float: left;\">\n",
    "</div>"
   ]
  },
  {
   "cell_type": "markdown",
   "metadata": {},
   "source": [
    "### Eine Möglichkeit, Leistungslevels zwischen jüngeren und älteren Spielern innerhalb einer Altersklasse besser vergleichbar zu machen"
   ]
  },
  {
   "cell_type": "markdown",
   "metadata": {},
   "source": [
    "<div width=\"300\">\n",
    "    <img src=\"images/RAE_files/gifs/altersklassen.gif\" width=\"90%\" style=\"float: left;\">\n",
    "</div>"
   ]
  },
  {
   "cell_type": "markdown",
   "metadata": {},
   "source": [
    "### Methoden:\n",
    "\n",
    "Um den Relative Age Effect in deutschen Jugendfußballakademien zu untersuchen, habe ich \n",
    "für 54 Nachwuchsleistungszentren die Kader der U19 Mannschaften mit 21431 Spielereinträgen, davon 11146 einzigartigen Spielern von Transfermarkt.de analysiert.  \n",
    "Für 7869 dieser Spieler (70.6%) waren die Geburtsdaten verfügbar.\n",
    "\n",
    "Neben Spielerprofildaten habe ich die von Transfermarkt.de bestimmten Marktwertentwicklungen und Leistungsdaten nach Vereinen und Spielzeiten für jeden Spieler abgerufen.\n",
    "\n",
    "Bei der Betrachtung, ob es ein Spieler in den professionellen Bereich geschafft hat, habe ich nur die 4911 Spieler berücksichtigt, die vor 1998 geboren sind, und somit im laufenden Jahr (2020) 23 Jahre alt werden. Dafür habe ich die Leistungsdaten-Historie jedes Spielers analysiert.\n",
    "\n",
    "Für das Kriterium, ob es ein Spieler in den Profibreich geschafft hat, habe ich 1500 akkumulierte Minuten Spielzeit in der 3. Liga oder einer höheren Liga ausgewählt. Dieses Kriterium ist zweifellos diskussionswürdig und dient vor allem dazu, Spieler herauszufiltern, die ein wenig Spielzeit bekamen, aber sich nicht nachhaltig durchsetzen konnten.\n",
    "\n",
    "Die Höhe der Liga habe ich dabei anhand der durchschnittlichen Spielermarktwerte in einer Liga (laut Transfermarkt.de) bestimmt.\n",
    "\n",
    "Für die Modellierung der Spielerzahlen nach Monaten habe ich ein Poisson Model benutzt.\n",
    "\n",
    "Um die Erfolgswahrscheinlichkeit den professionellen Fußball zu erreichen zu bestimmen, habe ich  eine binäre (Ja/Nein) Klassifikation (Logistische Regression) benutzt.\n",
    "\n",
    "Für die Modellierung der Spielzeit (Faktor von 90 Minuten) in der U19 nach Geburtsmonat habe ich ein Zero-Inflated Poisson Model benutzt, da verhältnismäßig viele Spieler keine Spielzeit erhalten. \n",
    "\n",
    "Alle Modelle habe ich mit dem Probabilistic Programming Package PyMC3 in Python implementiert."
   ]
  },
  {
   "cell_type": "markdown",
   "metadata": {},
   "source": [
    "### Referenzen:\n",
    "\n",
    "[1] Andreas Votteler, Oliver Höner (2017). Cross-sectional and longitudinal analyses of the relative age effect in German youth football. Impacts of talent selection procedures between competition levels and age categories. German Journal of Exercise and Sport Research. DOI 10.1007/s12662-017-0457-0"
   ]
  }
 ],
 "metadata": {
  "kernelspec": {
   "display_name": "Python 3",
   "language": "python",
   "name": "python3"
  },
  "language_info": {
   "codemirror_mode": {
    "name": "ipython",
    "version": 3
   },
   "file_extension": ".py",
   "mimetype": "text/x-python",
   "name": "python",
   "nbconvert_exporter": "python",
   "pygments_lexer": "ipython3",
   "version": "3.7.3"
  }
 },
 "nbformat": 4,
 "nbformat_minor": 4
}
